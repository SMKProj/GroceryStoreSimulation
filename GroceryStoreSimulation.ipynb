{
  "nbformat": 4,
  "nbformat_minor": 0,
  "metadata": {
    "colab": {
      "provenance": [],
      "authorship_tag": "ABX9TyOi944/lArasnH+wo1hSmyz",
      "include_colab_link": true
    },
    "kernelspec": {
      "name": "python3",
      "display_name": "Python 3"
    },
    "language_info": {
      "name": "python"
    }
  },
  "cells": [
    {
      "cell_type": "markdown",
      "metadata": {
        "id": "view-in-github",
        "colab_type": "text"
      },
      "source": [
        "<a href=\"https://colab.research.google.com/github/SMKProj/GroceryStoreSimulation/blob/main/GroceryStoreSimulation.ipynb\" target=\"_parent\"><img src=\"https://colab.research.google.com/assets/colab-badge.svg\" alt=\"Open In Colab\"/></a>"
      ]
    },
    {
      "cell_type": "markdown",
      "source": [
        "The Grocery Store simulation\n",
        "\n",
        " In this assignment, we are simulating a grocery store checkout line to see the total time required to check out for all the customers.\n",
        "Your task is to write a function computeCheckoutTime which will take an array of positive integers representing the customers and returns an integer which would be the total time required to check out for all the customers.\n",
        "The task will not only be assessed on correct functionality but also how optimal the code is from a performance perspective.\n",
        "\n",
        "\n",
        "input\n",
        "1)\tcustomers: an array of positive integers representing the customers. Each integer represents a customer, and its value is the amount of time they require to check out.\n",
        "2)\tn: a positive integer, the number of checkout counters.\n",
        "\n",
        "output\n",
        "The function should return an integer, the total time required.\n"
      ],
      "metadata": {
        "id": "UZhmC3i1-S0p"
      }
    },
    {
      "cell_type": "code",
      "source": [
        "import random\n",
        "\n",
        "def gen_rand_custList():\n",
        "    \"\"\"Method for generating random customer list\n",
        "    \n",
        "        Args: \n",
        "            No arguments are required\n",
        "            \n",
        "        Attributes:\n",
        "            No attributes are there\n",
        "        \n",
        "        Return:\n",
        "            Returns customers list of size 5\n",
        "        \"\"\"\n",
        "    customers = []\n",
        "    for i in range(0,5):\n",
        "        n = random.randint(1,10)\n",
        "        customers.append(n)\n",
        "    return customers"
      ],
      "metadata": {
        "id": "20Y6w4_piq1q"
      },
      "execution_count": null,
      "outputs": []
    },
    {
      "cell_type": "code",
      "source": [
        "def computeCheckout(customers,counters):\n",
        "    \"\"\"Method for computing checkout time for counters\n",
        "    \n",
        "        Args: \n",
        "            customers (list)\n",
        "            counters (int)\n",
        "            \n",
        "        Attributes:\n",
        "            customers (list): list of customers in a waiting in a queue\n",
        "            counters (int): number of counters available in shop\n",
        "        \n",
        "        Return:\n",
        "            Returns total time for check out\n",
        "        \"\"\"\n",
        "    tot_time = 0\n",
        "    counters_list= customers[0:counters]\n",
        "    for i in range(counters, len(customers)):\n",
        "      # getting an index of cutomer from cutomer list with minimum time\n",
        "        m = counters_list.index(min(counters_list))\n",
        "        counters_list[m] = counters_list[m] + customers[i]\n",
        "\n",
        "    tot_time = max(counters_list)\n",
        "    return(tot_time)\n",
        "  "
      ],
      "metadata": {
        "id": "YVneE4GviwGN"
      },
      "execution_count": null,
      "outputs": []
    },
    {
      "cell_type": "code",
      "source": [
        "def get_userInput():\n",
        "    \"\"\"Method to get user input to generate customers list\n",
        "    \n",
        "        Args: \n",
        "            No arguments are required\n",
        "            \n",
        "        Attributes:\n",
        "            No attributes are there\n",
        "        \n",
        "        Return:\n",
        "            Returns customers list\n",
        "        \"\"\"\n",
        "    user_input = int(input(\"Press 1 to generate random customers list \\nPress 2 to enter customers list \\n \"))\n",
        "    if user_input == 1:\n",
        "        customers = gen_rand_custList()\n",
        "        \n",
        "    else:\n",
        "        customers = []\n",
        "        n = input(\"Enter number of customers: \")\n",
        "        for i in range(0,int(n)):\n",
        "            c = input(\"Enter customers: \")\n",
        "            customers.append(int(c))\n",
        "    return customers"
      ],
      "metadata": {
        "id": "lJAZKfFMi0dW"
      },
      "execution_count": null,
      "outputs": []
    },
    {
      "cell_type": "code",
      "source": [
        "customers = get_userInput()\n",
        "print(customers)\n",
        "counters = int(input(\"Enter number of counters: \"))\n",
        "time = computeCheckout(customers,counters)\n",
        "print(\"Total Checkout Time Required is\", time)"
      ],
      "metadata": {
        "colab": {
          "base_uri": "https://localhost:8080/"
        },
        "id": "vSTsDB2Xiieo",
        "outputId": "10ad86cd-f8da-4495-96b3-37ead4ae726e"
      },
      "execution_count": null,
      "outputs": [
        {
          "output_type": "stream",
          "name": "stdout",
          "text": [
            "Press 1 to generate random customers list \n",
            "Press 2 to enter customers list \n",
            " 1\n",
            "[10, 6, 6, 5, 5]\n",
            "Enter number of counters: 3\n",
            "Total Checkout Time Required is 11\n"
          ]
        }
      ]
    }
  ]
}